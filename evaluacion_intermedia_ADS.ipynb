{
 "cells": [
  {
   "cell_type": "markdown",
   "metadata": {},
   "source": [
    "Parte 1. Strings"
   ]
  },
  {
   "cell_type": "code",
   "execution_count": null,
   "metadata": {},
   "outputs": [
    {
     "ename": "",
     "evalue": "",
     "output_type": "error",
     "traceback": [
      "\u001b[1;31mRunning cells with '/bin/python3' requires the ipykernel package.\n",
      "\u001b[1;31mRun the following command to install 'ipykernel' into the Python environment. \n",
      "\u001b[1;31mCommand: '/bin/python3 -m pip install ipykernel -U --user --force-reinstall'"
     ]
    }
   ],
   "source": [
    "# 1.Dada una cadena de texto, contar cuántas veces aparece una letra específica en ella. Usa un input para que el usuario elija la letra a buscar\n",
    "cadena = \"Python es un lenguaje de programación muy popular\"\n",
    "print(cadena)\n",
    "\n",
    "letra = input(\"Introduce la letra a buscar\")\n",
    "\n",
    "print(letra)\n",
    "\n",
    "cadena.lower().count(letra.lower())\n",
    "\n",
    "\n"
   ]
  },
  {
   "cell_type": "code",
   "execution_count": 12,
   "metadata": {},
   "outputs": [
    {
     "name": "stdout",
     "output_type": "stream",
     "text": [
      "Python es genial y es fácil de aprender.\n"
     ]
    }
   ],
   "source": [
    "cadena = \"Python es genial y es fácil de aprender.\"\n",
    "print(cadena)"
   ]
  },
  {
   "cell_type": "code",
   "execution_count": 22,
   "metadata": {},
   "outputs": [
    {
     "name": "stdout",
     "output_type": "stream",
     "text": [
      "Python es genial y es fácil de aprender.\n",
      "es\n",
      "parece\n",
      "Python parece genial y parece fácil de aprender.\n"
     ]
    }
   ],
   "source": [
    "# 2.Escribe un programa que tome la siguiente cadena de texto y reemplace una palabra específica por otra palabra. La palabra a reemplazar y reemplazada deben ser elegidas por el usuario\n",
    "\n",
    "cadena = \"Python es genial y es fácil de aprender.\"\n",
    "print(cadena)\n",
    "\n",
    "palabra = input(\"De la frase: Python es genial y es fácil de aprender. Selecciona la palabra a reemplazar\")\n",
    "print(palabra)\n",
    "\n",
    "nueva_palabra = input(\"Escribe la nueva palabra\")\n",
    "print(nueva_palabra)\n",
    "\n",
    "cadena1 = cadena.replace(palabra, nueva_palabra)\n",
    "\n",
    "print(cadena1)\n",
    "\n"
   ]
  },
  {
   "cell_type": "code",
   "execution_count": 7,
   "metadata": {},
   "outputs": [
    {
     "name": "stdout",
     "output_type": "stream",
     "text": [
      "['Esto', 'es', 'una', 'oración', 'de', 'ejemplo']\n",
      "Esto es una oración de ejemplo\n"
     ]
    }
   ],
   "source": [
    "# 3.Toma la siguiente oración y divídela en una lista de palabras. Luego, únelas nuevamente en una sola cadena de texto\n",
    "oracion = \"Esto es una oración de ejemplo\"\n",
    "\n",
    "oracion1 = oracion.split()\n",
    "print(oracion1)\n",
    "\n",
    "oracion2 = \" \".join(oracion1)\n",
    "print(oracion2)"
   ]
  },
  {
   "cell_type": "code",
   "execution_count": 35,
   "metadata": {},
   "outputs": [
    {
     "name": "stdout",
     "output_type": "stream",
     "text": [
      "['Esta', 'es', 'una', 'cadena', 'con', 'cinco', 'palabras']\n"
     ]
    },
    {
     "data": {
      "text/plain": [
       "7"
      ]
     },
     "execution_count": 35,
     "metadata": {},
     "output_type": "execute_result"
    }
   ],
   "source": [
    "# 4.Desarrolla un programa que cuente cuántas palabras hay en la siguiente frase\n",
    "cadena = \"Esta es una cadena con cinco palabras\"\n",
    "\n",
    "cadena1 = cadena.split()\n",
    "print(cadena1)\n",
    "\n",
    "len(cadena1)\n",
    "\n"
   ]
  },
  {
   "cell_type": "code",
   "execution_count": 24,
   "metadata": {},
   "outputs": [
    {
     "name": "stdout",
     "output_type": "stream",
     "text": [
      "me gusta el verano\n",
      "['me', 'gusta', 'el', 'verano']\n",
      "['verano', 'el', 'gusta', 'me']\n"
     ]
    }
   ],
   "source": [
    "# 5.Escribe un programa que invierta una cadena de texto dada por un usuario\n",
    "frase = str(input(\"Escribe una frase\"))\n",
    "print(frase)\n",
    "\n",
    "frase1 = frase.split()\n",
    "print(frase1)\n",
    "\n",
    "frase1.reverse()\n",
    "#poner join\n",
    "print(frase1)"
   ]
  },
  {
   "cell_type": "code",
   "execution_count": 16,
   "metadata": {},
   "outputs": [
    {
     "name": "stdout",
     "output_type": "stream",
     "text": [
      "me gusta el verano\n",
      "['me', 'gusta', 'el', 'verano']\n",
      "None\n"
     ]
    }
   ],
   "source": [
    "# 5.Escribe un programa que invierta una cadena de texto dada por un usuario\n",
    "frase = str(input(\"Escribe una frase\"))\n",
    "print(frase)\n",
    "\n",
    "frase1 = frase.split()\n",
    "print(frase1)\n",
    "\n",
    "# algo falta para que el reverse no devuelva el \"none\"\n",
    "frase2 = frase1.reverse()\n",
    "print(frase2)\n"
   ]
  },
  {
   "cell_type": "code",
   "execution_count": 15,
   "metadata": {},
   "outputs": [
    {
     "name": "stdout",
     "output_type": "stream",
     "text": [
      "Python es genial y fácil de aprender.\n",
      "genial\n"
     ]
    },
    {
     "data": {
      "text/plain": [
       "10"
      ]
     },
     "execution_count": 15,
     "metadata": {},
     "output_type": "execute_result"
    }
   ],
   "source": [
    "# 6.Crea un programa que busque una palabra específica(elegida por la usuaria) en una cadena de texto e indique su posición\n",
    "\n",
    "cadena = \"Python es genial y fácil de aprender.\"\n",
    "print(cadena)\n",
    "\n",
    "palabra = str(input(\"Selecciona una palabra de la frase: Python es genial y fácil de aprender.\"))\n",
    "print(palabra)\n",
    "\n",
    "cadena.index(palabra)\n",
    "\n"
   ]
  },
  {
   "cell_type": "markdown",
   "metadata": {},
   "source": [
    "Parte 2. Listas"
   ]
  },
  {
   "cell_type": "code",
   "execution_count": null,
   "metadata": {},
   "outputs": [],
   "source": [
    "# 1.Dada la siguiente lista: frutas = ['manzana', 'pera', 'banana', 'uva', 'kiwi'], realiza lo siguiente:-Reemplaza el segundo elemento con 'durazno'.-Agrega 'naranja' al final de la lista.-Extrae y muestra por pantalla el tercer elemento de la lista.\n",
    "\n",
    "frutas = ['manzana', 'pera', 'banana', 'uva', 'kiwi']\n",
    "\n"
   ]
  },
  {
   "cell_type": "code",
   "execution_count": null,
   "metadata": {},
   "outputs": [],
   "source": [
    "# 2.Crea una lista llamada numeros que contenga los siguientes valores: 10, 25, 15, 30, 20"
   ]
  },
  {
   "cell_type": "code",
   "execution_count": null,
   "metadata": {},
   "outputs": [],
   "source": [
    "# 3.Agrega el valor 35 al incio de la lista numeros\n"
   ]
  },
  {
   "cell_type": "code",
   "execution_count": null,
   "metadata": {},
   "outputs": [],
   "source": [
    "# 4.Ordena la lista numeros en orden ascendente.\n"
   ]
  },
  {
   "cell_type": "code",
   "execution_count": null,
   "metadata": {},
   "outputs": [],
   "source": [
    "# 5.Dada la siguiente lista numeros2 = [45, 22, 19, 38, 29]. Crea una nueva lista llamada numeros3 donde tengamos la unión de los todos los elementos de las dos listas (numeros y numeros2) de tal forma que el resultado final sea\n",
    "# numeros3 = [10, 25, 15, 30, 20, 45, 22, 19, 38, 29]\n"
   ]
  },
  {
   "cell_type": "code",
   "execution_count": null,
   "metadata": {},
   "outputs": [],
   "source": [
    "# 6.Elimina el último elemento de la lista numeros3"
   ]
  },
  {
   "cell_type": "code",
   "execution_count": null,
   "metadata": {},
   "outputs": [],
   "source": [
    "# 7.Elimina el número 30 de la lista numeros3"
   ]
  },
  {
   "cell_type": "markdown",
   "metadata": {},
   "source": [
    "Parte 3. Tuplas"
   ]
  },
  {
   "cell_type": "code",
   "execution_count": null,
   "metadata": {},
   "outputs": [],
   "source": [
    "# 1.Crea una tupla llamada colores que contenga los siguientes valores: 'rojo', 'verde', 'azul', 'amarillo', 'morado'.\n"
   ]
  },
  {
   "cell_type": "code",
   "execution_count": null,
   "metadata": {},
   "outputs": [],
   "source": [
    "# 2.Encuentra el índice de 'verde' en la tupla colores."
   ]
  },
  {
   "cell_type": "code",
   "execution_count": null,
   "metadata": {},
   "outputs": [],
   "source": [
    "# 3.¿Cuántas veces aparece 'azul' en la tupla colores?"
   ]
  },
  {
   "cell_type": "code",
   "execution_count": null,
   "metadata": {},
   "outputs": [],
   "source": [
    "# 4.Añade el color \"morado\" a la tupla colores. ¿Qué ha pasado? ¿Por qué? Como podríamos añadir el elemento \"morado\"."
   ]
  },
  {
   "cell_type": "markdown",
   "metadata": {},
   "source": [
    "Parte 4. Diccionario"
   ]
  },
  {
   "cell_type": "code",
   "execution_count": null,
   "metadata": {},
   "outputs": [],
   "source": [
    "# 1.Crea un diccionario llamado frutas con las siguientes parejas clave-valor:\n",
    "#'manzana': 2\n",
    "#'banana': 3\n",
    "#'uva': 5\n",
    "#'pera': 4\n",
    "\n",
    "\n"
   ]
  },
  {
   "cell_type": "code",
   "execution_count": null,
   "metadata": {},
   "outputs": [],
   "source": [
    "# 2.Saca una lista de todas las frutas en el diccionario."
   ]
  },
  {
   "cell_type": "code",
   "execution_count": null,
   "metadata": {},
   "outputs": [],
   "source": [
    "# 3.Saca una lista de todas las cantidades en el diccionario."
   ]
  },
  {
   "cell_type": "code",
   "execution_count": null,
   "metadata": {},
   "outputs": [],
   "source": [
    "# 4.¿Qué cantidad de 'manzana' tenemos?. Si la clave 'manzana' no está presente, devuelve un mensaje diciendo \"No existe esa clave\"."
   ]
  },
  {
   "cell_type": "code",
   "execution_count": null,
   "metadata": {},
   "outputs": [],
   "source": [
    "# 5.Agrega un nuevo par de clave-valor al diccionario frutas: 'kiwi' con una cantidad de 6."
   ]
  },
  {
   "cell_type": "code",
   "execution_count": null,
   "metadata": {},
   "outputs": [],
   "source": [
    "# 6.Cambia la cantidad de 'uva' a 8."
   ]
  }
 ],
 "metadata": {
  "kernelspec": {
   "display_name": "base",
   "language": "python",
   "name": "python3"
  },
  "language_info": {
   "codemirror_mode": {
    "name": "ipython",
    "version": 3
   },
   "file_extension": ".py",
   "mimetype": "text/x-python",
   "name": "python",
   "nbconvert_exporter": "python",
   "pygments_lexer": "ipython3",
   "version": "3.0.0"
  }
 },
 "nbformat": 4,
 "nbformat_minor": 2
}
